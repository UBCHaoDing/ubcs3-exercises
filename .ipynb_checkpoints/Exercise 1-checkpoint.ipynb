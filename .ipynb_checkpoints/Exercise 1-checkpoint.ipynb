{
 "cells": [
  {
   "cell_type": "markdown",
   "metadata": {},
   "source": [
    "# Project Description\n",
    "\n",
    "![Learn some Python](http://www.python-course.eu/images/python-logo.png)\n",
    "\n",
    "But before that, I need to know more about Jupyter Notebook (https://jupyter.org/about.html). So far I can't even catch up with the class. But the following links might be useful: "
   ]
  },
  {
   "cell_type": "markdown",
   "metadata": {},
   "source": [
    "Useful links \n",
    "1. [Markdown Cheat Sheet](https://github.com/adam-p/markdown-here/wiki/Markdown-Cheatsheet#links)\n",
    "![Mark Down](http://kirkstrobeck.github.io/whatismarkdown.com/img/markdown.png)\n",
    "2. [UBC Scientific Software Seminar](https://github.com/patrickwalls/ubc-scientific-software-seminar)\n",
    "  + [Exercise 1 notes](https://github.com/patrickwalls/ubc-scientific-software-seminar/blob/master/2016-07-20-notes.ipynb)\n",
    "  \n",
    "\n"
   ]
  },
  {
   "cell_type": "code",
   "execution_count": null,
   "metadata": {
    "collapsed": true
   },
   "outputs": [],
   "source": []
  }
 ],
 "metadata": {
  "kernelspec": {
   "display_name": "Python 3",
   "language": "python",
   "name": "python3"
  },
  "language_info": {
   "codemirror_mode": {
    "name": "ipython",
    "version": 3
   },
   "file_extension": ".py",
   "mimetype": "text/x-python",
   "name": "python",
   "nbconvert_exporter": "python",
   "pygments_lexer": "ipython3",
   "version": "3.5.1"
  }
 },
 "nbformat": 4,
 "nbformat_minor": 0
}
